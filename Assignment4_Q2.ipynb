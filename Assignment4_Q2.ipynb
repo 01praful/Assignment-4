{
  "nbformat": 4,
  "nbformat_minor": 0,
  "metadata": {
    "colab": {
      "provenance": []
    },
    "kernelspec": {
      "name": "python3",
      "display_name": "Python 3"
    },
    "language_info": {
      "name": "python"
    }
  },
  "cells": [
    {
      "cell_type": "markdown",
      "source": [
        "#Write a Python program to triple all numbers of a given list of integers. Use Python map."
      ],
      "metadata": {
        "id": "1c8w-eODsyay"
      }
    },
    {
      "cell_type": "code",
      "execution_count": 2,
      "metadata": {
        "colab": {
          "base_uri": "https://localhost:8080/"
        },
        "id": "AZxFFQbor6cq",
        "outputId": "1d32263e-22e6-4e39-9f92-8c9b0f4a454e"
      },
      "outputs": [
        {
          "output_type": "stream",
          "name": "stdout",
          "text": [
            "Enter the no. list : 5,10,15\n",
            "triple of all the no. in the list :  [15, 30, 45]\n"
          ]
        }
      ],
      "source": [
        "def triple(n):\n",
        "    return int (n)*3\n",
        "a = map(triple, input('Enter the no. list : ').split(','))\n",
        "print('triple of all the no. in the list : ',list(a))"
      ]
    },
    {
      "cell_type": "code",
      "source": [],
      "metadata": {
        "id": "715nM_bAsicb"
      },
      "execution_count": null,
      "outputs": []
    }
  ]
}