{
  "nbformat": 4,
  "nbformat_minor": 0,
  "metadata": {
    "colab": {
      "provenance": []
    },
    "kernelspec": {
      "name": "python3",
      "display_name": "Python 3"
    },
    "language_info": {
      "name": "python"
    }
  },
  "cells": [
    {
      "cell_type": "markdown",
      "source": [
        "#Write a Python program to square the elements of a list using map() function.\n",
        "\n"
      ],
      "metadata": {
        "id": "aSdex2WqtUbx"
      }
    },
    {
      "cell_type": "code",
      "execution_count": 3,
      "metadata": {
        "colab": {
          "base_uri": "https://localhost:8080/"
        },
        "id": "EL1fVqV0tTW6",
        "outputId": "e278928a-b636-4213-850c-784ac90f820a"
      },
      "outputs": [
        {
          "output_type": "stream",
          "name": "stdout",
          "text": [
            "Enter the numbers : 5,7,9\n",
            "Square of all the numbers in list :  [25, 49, 81]\n"
          ]
        }
      ],
      "source": [
        "def square(n):\n",
        "    square= int(n) * int(n)\n",
        "    return square\n",
        "a = input('Enter the numbers in list : ').split(',')\n",
        "b= map(square,a)\n",
        "print('Square of all the numbers in list : ',list(b))"
      ]
    },
    {
      "cell_type": "code",
      "source": [],
      "metadata": {
        "id": "2vD5PArUt_Gq"
      },
      "execution_count": null,
      "outputs": []
    }
  ]
}