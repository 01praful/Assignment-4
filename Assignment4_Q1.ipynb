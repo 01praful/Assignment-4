{
  "nbformat": 4,
  "nbformat_minor": 0,
  "metadata": {
    "colab": {
      "provenance": []
    },
    "kernelspec": {
      "name": "python3",
      "display_name": "Python 3"
    },
    "language_info": {
      "name": "python"
    }
  },
  "cells": [
    {
      "cell_type": "markdown",
      "source": [
        "#Write a Python program to create a lambda function that adds 25 to a given number passed in as an argument.\n",
        "\n"
      ],
      "metadata": {
        "id": "ln6pPdKCocQY"
      }
    },
    {
      "cell_type": "code",
      "execution_count": 12,
      "metadata": {
        "colab": {
          "base_uri": "https://localhost:8080/"
        },
        "id": "_oTVnGpEjt-Q",
        "outputId": "006e5c75-f3d0-443d-f19e-1ae3a84f4233"
      },
      "outputs": [
        {
          "output_type": "stream",
          "name": "stdout",
          "text": [
            "Enter your number--->10\n",
            "Result after adding 25 + 10 : 35\n"
          ]
        }
      ],
      "source": [
        "a= int(input('Enter your number--->'))\n",
        "x = lambda a: a+25\n",
        "print('Result after adding 25 +',a,':',x(a))"
      ]
    }
  ]
}